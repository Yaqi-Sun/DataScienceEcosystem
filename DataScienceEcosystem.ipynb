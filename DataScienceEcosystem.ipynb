{
 "cells": [
  {
   "cell_type": "markdown",
   "id": "4a9d8b38-c3b3-4116-bb87-b987da0d979f",
   "metadata": {},
   "source": [
    "# Data Science Tools and Ecosystem"
   ]
  },
  {
   "cell_type": "markdown",
   "id": "4af78e68-870d-456d-b0ba-46157347fbfe",
   "metadata": {},
   "source": [
    "In this notebook, Data Science Tools and Ecosystem are summarized."
   ]
  },
  {
   "cell_type": "markdown",
   "id": "2fd2494c-7451-4944-b7ef-a6d1019f171b",
   "metadata": {},
   "source": [
    "**Objectives:**\n",
    "\n",
    "- List popular languages for Data Science.\n",
    "- Identify commonly used libraries in Data Science.\n",
    "- Demonstrate examples of arithmetic operations in Python.\n",
    "- Create tables and lists in markdown cells.\n"
   ]
  },
  {
   "cell_type": "markdown",
   "id": "a2ca72d9-7457-4aa1-a67c-48b118f00342",
   "metadata": {},
   "source": [
    "Some of the popular languages that Data Scientists use are:\n",
    "1. Python\n",
    "2. SQL\n",
    "3. R"
   ]
  },
  {
   "cell_type": "markdown",
   "id": "de6ca3bd-a05e-4f0f-9735-2d4967e88908",
   "metadata": {},
   "source": [
    "Some of the commonly used libraries used by Data Scientists include:\n",
    "1.  NumPy\n",
    "2.  Pandas\n",
    "3.  Matplotlib\n",
    "4.  Scikit-learn"
   ]
  },
  {
   "cell_type": "markdown",
   "id": "89d39f40-b486-4b6f-b27f-ffc506ea3050",
   "metadata": {},
   "source": [
    "# Data Science Tools\n",
    "\n",
    "| Data Science Tools      |\n",
    "|--------------------------|\n",
    "| Jupyter Notebook         |\n",
    "| RStudio                  |\n",
    "| Apache Zeppelin          |"
   ]
  },
  {
   "cell_type": "markdown",
   "id": "d5072100-7813-4fa5-80f5-c157519eb5db",
   "metadata": {},
   "source": [
    "### Below are a few examples of evaluating arithmetic expressions in Python\n",
    "1. Addition: `5 + 3` evaluates to **8**.\n",
    "2. Subtraction: `10 - 4` evaluates to **6**.\n",
    "3. Multiplication: `6 * 7` evaluates to **42**."
   ]
  },
  {
   "cell_type": "code",
   "execution_count": 15,
   "id": "d433bebc-b046-42d6-9df4-f1452010891a",
   "metadata": {
    "jupyter": {
     "source_hidden": true
    }
   },
   "outputs": [
    {
     "data": {
      "text/plain": [
       "17"
      ]
     },
     "execution_count": 15,
     "metadata": {},
     "output_type": "execute_result"
    }
   ],
   "source": [
    "# This is a simple arithmetic expression to multiply then add integers\n",
    "(3 * 4) + 5"
   ]
  },
  {
   "cell_type": "code",
   "execution_count": 18,
   "id": "0a9d6aba-84aa-4b10-8e01-73a1e3dbc3aa",
   "metadata": {},
   "outputs": [
    {
     "data": {
      "text/plain": [
       "3.3333333333333335"
      ]
     },
     "execution_count": 18,
     "metadata": {},
     "output_type": "execute_result"
    }
   ],
   "source": [
    "# This will convert 200 minutes to hours by dividing by 60\n",
    "200 / 60"
   ]
  },
  {
   "cell_type": "markdown",
   "id": "5ffaa5f6-481a-4244-80d8-4165f4f66a97",
   "metadata": {},
   "source": [
    "## Author\n",
    "\n",
    "Yaqi Sun"
   ]
  }
 ],
 "metadata": {
  "kernelspec": {
   "display_name": "Python 3 (ipykernel)",
   "language": "python",
   "name": "python3"
  },
  "language_info": {
   "codemirror_mode": {
    "name": "ipython",
    "version": 3
   },
   "file_extension": ".py",
   "mimetype": "text/x-python",
   "name": "python",
   "nbconvert_exporter": "python",
   "pygments_lexer": "ipython3",
   "version": "3.12.4"
  }
 },
 "nbformat": 4,
 "nbformat_minor": 5
}
